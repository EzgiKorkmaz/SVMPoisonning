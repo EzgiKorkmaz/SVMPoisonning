{
 "cells": [
  {
   "cell_type": "code",
   "execution_count": 1140,
   "metadata": {},
   "outputs": [],
   "source": [
    "import numpy as np\n",
    "import random, math\n",
    "from scipy.optimize import minimize\n",
    "import matplotlib.pyplot as plt\n",
    "import scipy.linalg\n"
   ]
  },
  {
   "cell_type": "code",
   "execution_count": 1141,
   "metadata": {},
   "outputs": [
    {
     "name": "stdout",
     "output_type": "stream",
     "text": [
      "[-1.81713703  0.23324286]\n"
     ]
    }
   ],
   "source": [
    "classA = np.concatenate((np.random.randn(10,2) * 0.4 + [1.5,0.5], np.random.randn(10,2)* 0.3 + [-1.5,0.5]))\n",
    "classB = np.random.randn(20, 2) * 0.3 + [0.0, -0.5]\n",
    "\n",
    "poison = classA[16]\n",
    "print(poison)\n",
    "\n",
    "inputs = np.concatenate((classA, classB))\n",
    "targets = np.concatenate((np.ones(classA.shape[0]),-np.ones(classB.shape[0])))\n",
    "\n",
    "N = inputs.shape[0]  #number of rows (samples)\n",
    "\n",
    "permute = list(range(N))\n",
    "random.shuffle(permute)\n",
    "inputs = inputs[permute,:]\n",
    "targets = targets [permute]\n",
    "\n",
    "x = inputs\n",
    "\n",
    "\n",
    "\n"
   ]
  },
  {
   "cell_type": "code",
   "execution_count": 1142,
   "metadata": {},
   "outputs": [
    {
     "data": {
      "image/png": "[encoded data removed]",
      "text/plain": [
       "<Figure size 432x288 with 1 Axes>"
      ]
     },
     "metadata": {
      "needs_background": "light"
     },
     "output_type": "display_data"
    }
   ],
   "source": [
    "plt.plot ([p[0] for p in classA] , [p[1] for p in classA] , 'b.')\n",
    "plt.plot ([p[0] for p in classB] , [p[1] for p in classB] , 'r.')\n",
    "plt.scatter(x= poison[0], y= poison[1], marker='v', c= 'red')\n",
    "\n",
    "plt.axis('equal')   #force same scale on both axis\n",
    "plt.savefig('svmplot1.pdf')\n",
    "plt.show()"
   ]
  },
  {
   "cell_type": "code",
   "execution_count": 1144,
   "metadata": {},
   "outputs": [],
   "source": [
    "def linear_kernel(x1, x2):\n",
    "    return np.dot(x1, x2)\n",
    "\n",
    "\n",
    "def polynomial_kernel(x, y, p=2):\n",
    "    return (1 + np.dot(x, y)) ** p\n",
    "\n",
    "def gaussian_kernel(x, y, sigma=7):\n",
    "    return np.exp(-np.linalg.norm(x-y)**2 / (2 * (sigma ** 2)))"
   ]
  },
  {
   "cell_type": "code",
   "execution_count": null,
   "metadata": {},
   "outputs": [],
   "source": []
  },
  {
   "cell_type": "code",
   "execution_count": 1145,
   "metadata": {},
   "outputs": [],
   "source": [
    "P = np.zeros((N,N))\n",
    "\n",
    "for i in range(N):\n",
    "    for j in range(N):\n",
    "        P[i,j] = targets[i] * targets [j] * polynomial_kernel(x[i], x[j])"
   ]
  },
  {
   "cell_type": "code",
   "execution_count": 1146,
   "metadata": {},
   "outputs": [],
   "source": [
    "def zerofun(alpha):\n",
    "    return(np.dot(alpha, targets))"
   ]
  },
  {
   "cell_type": "code",
   "execution_count": 1147,
   "metadata": {},
   "outputs": [],
   "source": [
    "\n",
    "\n",
    "start = np.zeros(N)\n",
    "B=[(0, None) for b in range(N)]\n",
    "cons = {'type':'eq', 'fun':zerofun}"
   ]
  },
  {
   "cell_type": "code",
   "execution_count": 1148,
   "metadata": {},
   "outputs": [],
   "source": [
    "def objective(alpha):\n",
    "    result = 0\n",
    "    sum_alpha = np.sum(alpha)\n",
    "    \n",
    "    for i in range(N):\n",
    "        for m in range(N):\n",
    "            result += alpha[i] * alpha[m] * P[i,m]\n",
    "    result = 0.5 * result - sum_alpha\n",
    "    return(result)\n"
   ]
  },
  {
   "cell_type": "code",
   "execution_count": 1149,
   "metadata": {},
   "outputs": [
    {
     "data": {
      "text/plain": [
       "array([1.66045819e-17, 5.16533400e-02, 0.00000000e+00, 0.00000000e+00,\n",
       "       7.48134291e-16, 1.95530947e-16, 2.75938554e-15, 7.85480901e-16,\n",
       "       8.29844573e-15, 2.14319865e-01, 0.00000000e+00, 0.00000000e+00,\n",
       "       2.90644014e-16, 0.00000000e+00, 2.64283547e-16, 1.05633730e-15,\n",
       "       6.92597474e-01, 6.77790732e-15, 1.57034280e-15, 2.00153055e-01,\n",
       "       2.25404677e-15, 1.98303930e-15, 1.91256667e-15, 0.00000000e+00,\n",
       "       0.00000000e+00, 1.61085465e-15, 0.00000000e+00, 0.00000000e+00,\n",
       "       2.22159492e-15, 0.00000000e+00, 0.00000000e+00, 1.44763766e-15,\n",
       "       0.00000000e+00, 1.21499282e-14, 0.00000000e+00, 7.80697688e-16,\n",
       "       6.55110943e-01, 7.53612231e-15, 1.35983934e-15, 0.00000000e+00])"
      ]
     },
     "execution_count": 1149,
     "metadata": {},
     "output_type": "execute_result"
    }
   ],
   "source": [
    "ret = minimize(objective, start, bounds = B, constraints = cons)\n",
    "alphas = ret['x']\n",
    "alphas"
   ]
  },
  {
   "cell_type": "code",
   "execution_count": 1150,
   "metadata": {},
   "outputs": [
    {
     "name": "stdout",
     "output_type": "stream",
     "text": [
      "[0.05165334 0.21431986 0.69259747 0.20015306 0.65511094]\n",
      ".\n",
      "[[-1.01534916  0.63265412]\n",
      " [-0.49105633 -0.71843533]\n",
      " [-0.34305026 -0.37751651]\n",
      " [ 1.02596141  1.01673358]\n",
      " [-1.18356309 -0.25790426]]\n",
      ".\n",
      "[-0.34305026 -0.37751651]\n",
      ".\n",
      "[ 1. -1. -1.  1.  1.]\n",
      ".\n",
      "-1.0\n"
     ]
    }
   ],
   "source": [
    "j = 0\n",
    "non_alpha = np.zeros(N)\n",
    "non_inputs = np.zeros((N,2))\n",
    "non_targets = np.zeros(N)\n",
    "\n",
    "\n",
    "\n",
    "\n",
    "for i in range(N):\n",
    "    if alphas[i] >= 10e-5:\n",
    "        non_alpha[j] = alphas[i]\n",
    "        non_inputs[j,0] = inputs[i,0]\n",
    "        non_inputs[j,1] = inputs[i,1]\n",
    "        non_targets[j] = targets[i]\n",
    "        j += 1\n",
    "    \n",
    "non_inputs       \n",
    "non_alpha_cut = np.zeros(j)\n",
    "non_targets_cut = np.zeros(j)\n",
    "non_inputs_cut = np.zeros((j, 2))\n",
    "\n",
    "\n",
    "\n",
    "\n",
    "non_alpha_cut = non_alpha[0:j]\n",
    "non_targets_cut = non_targets[0:j]\n",
    "non_inputs_cut[:,0] = non_inputs[0:j,0]\n",
    "non_inputs_cut[:,1] = non_inputs[0:j,1]\n",
    "\n",
    "\n",
    "\n",
    "alpha_ind_max = np.argmax(non_alpha_cut)\n",
    "inp_max = non_inputs_cut[alpha_ind_max]\n",
    "inp_max_target = non_targets_cut[alpha_ind_max]\n",
    "\n",
    "\n",
    "print (non_alpha_cut)\n",
    "print  ('.')\n",
    "print (non_inputs_cut)\n",
    "print  ('.')\n",
    "print  (inp_max)\n",
    "print  ('.')\n",
    "print  (non_targets_cut)\n",
    "print  ('.')\n",
    "print  (inp_max_target)"
   ]
  },
  {
   "cell_type": "code",
   "execution_count": 1151,
   "metadata": {},
   "outputs": [
    {
     "name": "stdout",
     "output_type": "stream",
     "text": [
      "0.014077882201109171\n",
      ".\n"
     ]
    },
    {
     "data": {
      "text/plain": [
       "(1.0140778822011092, 5, array([ 1., -1., -1.,  1.,  1.]))"
      ]
     },
     "execution_count": 1151,
     "metadata": {},
     "output_type": "execute_result"
    }
   ],
   "source": [
    "b=0\n",
    "for i in range(j):\n",
    "    b += non_alpha_cut[i] * non_targets_cut[i] * polynomial_kernel(inp_max, non_inputs_cut[i]) \n",
    "    \n",
    "    \n",
    "print(b)\n",
    "print('.')    \n",
    "b = b - inp_max_target   \n",
    "b,j, non_targets_cut\n"
   ]
  },
  {
   "cell_type": "code",
   "execution_count": 1152,
   "metadata": {},
   "outputs": [],
   "source": [
    "def indicator3(x, y):\n",
    "    iden2 = 0\n",
    "    s2 = np.zeros((1,2))\n",
    "    s2[0,0] = x\n",
    "    s2[0,1] = y\n",
    "    #print(s2)\n",
    "    for i in range(j):\n",
    "        iden2 += non_alpha_cut[i] * non_targets_cut[i] * polynomial_kernel(s2, non_inputs_cut[i]) \n",
    "    iden2 = iden2 - b\n",
    "    #print(iden2)\n",
    "    if iden2 > 10e-1:\n",
    "        return 1\n",
    "    elif iden2 < -10e-1:\n",
    "        return -1\n",
    "    else:\n",
    "        return 0"
   ]
  },
  {
   "cell_type": "code",
   "execution_count": 1153,
   "metadata": {},
   "outputs": [
    {
     "data": {
      "image/png": "[encoded data removed]",
      "text/plain": [
       "<Figure size 432x288 with 1 Axes>"
      ]
     },
     "metadata": {
      "needs_background": "light"
     },
     "output_type": "display_data"
    }
   ],
   "source": [
    "xgrid = np.linspace(-4,4, 300)\n",
    "ygrid = np.linspace(-3,3, 300)\n",
    "\n",
    "grid = np.array([[indicator3(x,y)\n",
    "                  for x in xgrid]\n",
    "                 for y in ygrid])\n",
    "\n",
    "               \n",
    "fig = plt.figure()\n",
    "#plt.contour(xgrid, ygrid, grid, (-1, 0, 1), colors = ('red' , 'black', 'blue'), linewidths = (1,3,1))\n",
    "plt.contour(xgrid, ygrid, grid, colors = ('red' , 'black', 'blue'))\n",
    "plt.plot ([p[0] for p in classA] , [p[1] for p in classA] , 'b.')\n",
    "plt.plot ([p[0] for p in classB] , [p[1] for p in classB] , 'r.')\n",
    "plt.plot ([p[0] for p in non_inputs_cut] , [p[1] for p in non_inputs_cut] , 'y+')\n",
    "#plt.plot (inp_max[0,0] , inp_max[0,1] , 'yo')\n",
    "#plt.scatter(xgrid, ygrid)\n",
    "plt.grid()\n",
    "fig.suptitle('SVM Polynomial Kernel p_8_0.9_0.2_0.3', fontsize=16)\n",
    "plt.savefig('SVM Gaussian Kernel p_7_0.9_0.2_0.3.svg')\n",
    "plt.show()"
   ]
  },
  {
   "cell_type": "code",
   "execution_count": 1154,
   "metadata": {},
   "outputs": [],
   "source": [
    "#poison\n",
    "classA_poison = classA\n",
    "classB_poison = classB\n",
    "inputs_poison = inputs\n",
    "targets_poison = targets\n",
    "targets_poison[16] = -1"
   ]
  },
  {
   "cell_type": "code",
   "execution_count": 1155,
   "metadata": {},
   "outputs": [],
   "source": [
    "P = np.zeros((N,N))\n",
    "\n",
    "for i in range(N):\n",
    "    for j in range(N):\n",
    "        P[i,j] = targets_poison[i] * targets_poison [j] * polynomial_kernel(x[i], x[j])"
   ]
  },
  {
   "cell_type": "code",
   "execution_count": 1156,
   "metadata": {},
   "outputs": [],
   "source": [
    "def zerofun(alpha):\n",
    "    return(np.dot(alpha, targets_poison))"
   ]
  },
  {
   "cell_type": "code",
   "execution_count": 1157,
   "metadata": {},
   "outputs": [],
   "source": [
    "start = np.zeros(N)\n",
    "B=[(0, None) for b in range(N)]\n",
    "cons = {'type':'eq', 'fun':zerofun}"
   ]
  },
  {
   "cell_type": "code",
   "execution_count": 1158,
   "metadata": {},
   "outputs": [],
   "source": [
    "def objective(alpha):\n",
    "    result = 0\n",
    "    sum_alpha = np.sum(alpha)\n",
    "    \n",
    "    for i in range(N):\n",
    "        for m in range(N):\n",
    "            result += alpha[i] * alpha[m] * P[i,m]\n",
    "    result = 0.5 * result - sum_alpha\n",
    "    return(result)\n"
   ]
  },
  {
   "cell_type": "code",
   "execution_count": 1159,
   "metadata": {},
   "outputs": [
    {
     "data": {
      "text/plain": [
       "array([1.66045819e-17, 5.16533400e-02, 0.00000000e+00, 0.00000000e+00,\n",
       "       7.48134291e-16, 1.95530947e-16, 2.75938554e-15, 7.85480901e-16,\n",
       "       8.29844573e-15, 2.14319865e-01, 0.00000000e+00, 0.00000000e+00,\n",
       "       2.90644014e-16, 0.00000000e+00, 2.64283547e-16, 1.05633730e-15,\n",
       "       6.92597474e-01, 6.77790732e-15, 1.57034280e-15, 2.00153055e-01,\n",
       "       2.25404677e-15, 1.98303930e-15, 1.91256667e-15, 0.00000000e+00,\n",
       "       0.00000000e+00, 1.61085465e-15, 0.00000000e+00, 0.00000000e+00,\n",
       "       2.22159492e-15, 0.00000000e+00, 0.00000000e+00, 1.44763766e-15,\n",
       "       0.00000000e+00, 1.21499282e-14, 0.00000000e+00, 7.80697688e-16,\n",
       "       6.55110943e-01, 7.53612231e-15, 1.35983934e-15, 0.00000000e+00])"
      ]
     },
     "execution_count": 1159,
     "metadata": {},
     "output_type": "execute_result"
    }
   ],
   "source": [
    "ret_poison = minimize(objective, start, bounds = B, constraints = cons)\n",
    "alphas_poison = ret_poison['x']\n",
    "alphas_poison"
   ]
  },
  {
   "cell_type": "code",
   "execution_count": 1160,
   "metadata": {},
   "outputs": [
    {
     "name": "stdout",
     "output_type": "stream",
     "text": [
      "[0.05165334 0.21431986 0.69259747 0.20015306 0.65511094]\n",
      ".\n",
      "[[-1.01534916  0.63265412]\n",
      " [-0.49105633 -0.71843533]\n",
      " [-0.34305026 -0.37751651]\n",
      " [ 1.02596141  1.01673358]\n",
      " [-1.18356309 -0.25790426]]\n",
      ".\n",
      "[-0.34305026 -0.37751651]\n",
      ".\n",
      "[ 1. -1. -1.  1.  1.]\n",
      ".\n",
      "-1.0\n"
     ]
    }
   ],
   "source": [
    "j = 0\n",
    "non_alpha_poison = np.zeros(N)\n",
    "non_inputs_poison = np.zeros((N,2))\n",
    "non_targets_poison = np.zeros(N)\n",
    "\n",
    "\n",
    "\n",
    "\n",
    "for i in range(N):\n",
    "    if alphas_poison[i] >= 10e-5:\n",
    "        non_alpha_poison[j] = alphas_poison[i]\n",
    "        non_inputs_poison[j,0] = inputs_poison[i,0]\n",
    "        non_inputs_poison[j,1] = inputs_poison[i,1]\n",
    "        non_targets_poison[j] = targets_poison[i]\n",
    "        j += 1\n",
    "    \n",
    "non_inputs_poison       \n",
    "non_alpha_cut_poison = np.zeros(j)\n",
    "non_targets_cut_poison = np.zeros(j)\n",
    "non_inputs_cut_poison = np.zeros((j, 2))\n",
    "\n",
    "\n",
    "\n",
    "\n",
    "non_alpha_cut_poison = non_alpha_poison[0:j]\n",
    "non_targets_cut_poison = non_targets_poison[0:j]\n",
    "non_inputs_cut_poison[:,0] = non_inputs_poison[0:j,0]\n",
    "non_inputs_cut_poison[:,1] = non_inputs_poison[0:j,1]\n",
    "\n",
    "\n",
    "\n",
    "alpha_ind_max_poison = np.argmax(non_alpha_cut_poison)\n",
    "inp_max_poison = non_inputs_cut[alpha_ind_max_poison]\n",
    "inp_max_target_poison = non_targets_cut[alpha_ind_max_poison]\n",
    "\n",
    "\n",
    "print (non_alpha_cut_poison)\n",
    "print  ('.')\n",
    "print (non_inputs_cut_poison)\n",
    "print  ('.')\n",
    "print  (inp_max_poison)\n",
    "print  ('.')\n",
    "print  (non_targets_cut_poison)\n",
    "print  ('.')\n",
    "print  (inp_max_target_poison)"
   ]
  },
  {
   "cell_type": "code",
   "execution_count": 1161,
   "metadata": {},
   "outputs": [
    {
     "name": "stdout",
     "output_type": "stream",
     "text": [
      "1.0140778822011092\n",
      ".\n"
     ]
    },
    {
     "data": {
      "text/plain": [
       "(1.0140778822011092, 5, array([ 1., -1., -1.,  1.,  1.]))"
      ]
     },
     "execution_count": 1161,
     "metadata": {},
     "output_type": "execute_result"
    }
   ],
   "source": [
    "b_poison=0\n",
    "for i in range(j):\n",
    "    b_poison += non_alpha_cut_poison[i] * non_targets_cut_poison[i] * polynomial_kernel(inp_max_poison, non_inputs_cut_poison[i]) \n",
    "    \n",
    "    \n",
    "print(b)\n",
    "print('.')    \n",
    "b_poison = b_poison - inp_max_target_poison   \n",
    "b_poison,j, non_targets_cut_poison\n"
   ]
  },
  {
   "cell_type": "code",
   "execution_count": 1162,
   "metadata": {},
   "outputs": [],
   "source": [
    "def indicator2_poison(x_poison, y_poison):\n",
    "    iden2_poison = 0\n",
    "    s2_poison = np.zeros((1,2))\n",
    "    s2_poison[0,0] = x_poison\n",
    "    s2_poison[0,1] = y_poison\n",
    "    #print(s2)\n",
    "    for i in range(j):\n",
    "        iden2_poison += non_alpha_cut_poison[i] * non_targets_cut_poison[i] * polynomial_kernel(s2_poison, non_inputs_cut_poison[i]) \n",
    "    iden2_poison = iden2_poison - b_poison\n",
    "    #print(iden2)\n",
    "    if iden2_poison > 10e-1:\n",
    "        return 1\n",
    "    elif iden2_poison < -10e-1:\n",
    "        return -1\n",
    "    else:\n",
    "        return 0"
   ]
  },
  {
   "cell_type": "code",
   "execution_count": 1163,
   "metadata": {},
   "outputs": [
    {
     "name": "stdout",
     "output_type": "stream",
     "text": [
      "[-1.  0. -1. -1. -1. -1. -1.  1.  1.  0. -1.  1. -1. -1.  1.  1.  0.  1.\n",
      "  1.  0.  1. -1. -1. -1.  1.  1.  1.  1. -1.  1. -1. -1.  1.  1. -1.  1.\n",
      "  1.  1. -1. -1.]\n",
      "[-1.  1. -1. -1. -1. -1. -1.  1.  1. -1. -1.  1. -1. -1.  1.  1. -1.  1.\n",
      "  1.  1.  1. -1. -1. -1.  1.  1.  1.  1. -1.  1. -1. -1.  1.  1. -1.  1.\n",
      "  1.  1. -1. -1.]\n"
     ]
    }
   ],
   "source": [
    "xgrid_val = inputs[:,0]\n",
    "ygrid_val = inputs[:,1]\n",
    "\n",
    "grid_val2 = np.zeros(40)\n",
    "\n",
    "for i in range(40):\n",
    "    grid_val2[i] = indicator2_poison(xgrid_val[i],ygrid_val[i])\n",
    "\n",
    "\n",
    "\n",
    "print(grid_val2)\n",
    "print(targets)\n",
    "\n",
    "#indicator2(inputs_val[0], inputs_val[1])"
   ]
  },
  {
   "cell_type": "code",
   "execution_count": 1164,
   "metadata": {},
   "outputs": [
    {
     "name": "stdout",
     "output_type": "stream",
     "text": [
      "4.0\n"
     ]
    }
   ],
   "source": [
    "hinge_loss = 0\n",
    "i=0\n",
    "targets\n",
    "#grid_val\n",
    "#print(grid_val)\n",
    "for i in range(40):\n",
    "    \n",
    "    comparison = 1-targets[i]*grid_val2[i]\n",
    "    #print(comparison)\n",
    "    hinge_loss += max(0, comparison)\n",
    "    \n",
    "    \n",
    "print(hinge_loss)"
   ]
  },
  {
   "cell_type": "code",
   "execution_count": 1165,
   "metadata": {},
   "outputs": [
    {
     "data": {
      "image/png": "[encoded data removed]",
      "text/plain": [
       "<Figure size 432x288 with 1 Axes>"
      ]
     },
     "metadata": {
      "needs_background": "light"
     },
     "output_type": "display_data"
    }
   ],
   "source": [
    "\n",
    "xgrid = np.linspace(-4,4, 300)\n",
    "ygrid = np.linspace(-3,3, 300)\n",
    "\n",
    "grid = np.array([[indicator2_poison(x,y)\n",
    "                  for x in xgrid]\n",
    "                 for y in ygrid])\n",
    "\n",
    "               \n",
    "fig = plt.figure()\n",
    "#plt.contour(xgrid, ygrid, grid, (-1, 0, 1), colors = ('red' , 'black', 'blue'), linewidths = (1,3,1))\n",
    "plt.contour(xgrid, ygrid, grid, colors = ('red' , 'black', 'blue'))\n",
    "plt.plot ([p[0] for p in classA] , [p[1] for p in classA] , 'b.')\n",
    "plt.plot ([p[0] for p in classB] , [p[1] for p in classB] , 'r.')\n",
    "plt.plot ([p[0] for p in non_inputs_cut_poison] , [p[1] for p in non_inputs_cut_poison] , 'y+')\n",
    "plt.scatter(x= poison[0], y= poison[1], marker='v', c= 'red')\n",
    "#plt.plot (inp_max[0,0] , inp_max[0,1] , 'yo')\n",
    "#plt.scatter(xgrid, ygrid)\n",
    "plt.grid()\n",
    "fig.suptitle('SVM Polynomial Kernel p_8_0.9_0.2_0.3', fontsize=16)\n",
    "plt.savefig('SVM Kernel p_7_0.9_0.2_0.3.svg')\n",
    "plt.show()\n"
   ]
  },
  {
   "cell_type": "code",
   "execution_count": null,
   "metadata": {},
   "outputs": [],
   "source": []
  },
  {
   "cell_type": "code",
   "execution_count": 666,
   "metadata": {},
   "outputs": [
    {
     "data": {
      "text/plain": [
       "array([[0, 0, 0, ..., 0, 0, 0],\n",
       "       [0, 0, 0, ..., 0, 0, 0],\n",
       "       [0, 0, 0, ..., 0, 0, 0],\n",
       "       ...,\n",
       "       [0, 0, 0, ..., 0, 0, 0],\n",
       "       [0, 0, 0, ..., 0, 0, 0],\n",
       "       [0, 0, 0, ..., 0, 0, 0]])"
      ]
     },
     "execution_count": 666,
     "metadata": {},
     "output_type": "execute_result"
    }
   ],
   "source": [
    "grid"
   ]
  },
  {
   "cell_type": "code",
   "execution_count": 667,
   "metadata": {},
   "outputs": [
    {
     "data": {
      "text/plain": [
       "(0, 300)"
      ]
     },
     "execution_count": 667,
     "metadata": {},
     "output_type": "execute_result"
    }
   ],
   "source": [
    "np.count_nonzero(grid), len(grid)"
   ]
  },
  {
   "cell_type": "code",
   "execution_count": 668,
   "metadata": {},
   "outputs": [
    {
     "name": "stdout",
     "output_type": "stream",
     "text": [
      "[-1.50213752 -0.03270879]\n"
     ]
    },
    {
     "data": {
      "image/png": "[encoded data removed]",
      "text/plain": [
       "<Figure size 432x288 with 1 Axes>"
      ]
     },
     "metadata": {
      "needs_background": "light"
     },
     "output_type": "display_data"
    }
   ],
   "source": [
    "classA_val = np.concatenate((np.random.randn(10,2) * 0.3 + [-1.5,0.5], np.random.randn(10,2)* 0.3 + [-1.5,0.5]))\n",
    "classB_val = np.random.randn(20, 2) * 0.3 + [0.0, -0.5]\n",
    "\n",
    "poison = classA_val[16]\n",
    "print(poison)\n",
    "\n",
    "inputs_val = np.concatenate((classA, classB))\n",
    "targets_val = np.concatenate((np.ones(classA.shape[0]),-np.ones(classB.shape[0])))\n",
    "\n",
    "N = inputs.shape[0]  #number of rows (samples)\n",
    "\n",
    "permute = list(range(N))\n",
    "random.shuffle(permute)\n",
    "inputs_val = inputs[permute,:]\n",
    "targets_val = targets_val [permute]\n",
    "\n",
    "x_val = inputs_val\n",
    "\n",
    "plt.plot ([p[0] for p in classA] , [p[1] for p in classA_val] , 'b.')\n",
    "plt.plot ([p[0] for p in classB] , [p[1] for p in classB] , 'r.')\n",
    "plt.scatter(x= poison[0], y= poison[1], marker='v', c= 'red')\n",
    "\n",
    "plt.axis('equal')   #force same scale on both axis\n",
    "plt.savefig('svmplot1.pdf')\n",
    "plt.show()\n"
   ]
  },
  {
   "cell_type": "code",
   "execution_count": 669,
   "metadata": {},
   "outputs": [
    {
     "data": {
      "image/png": "[encoded data removed]",
      "text/plain": [
       "<Figure size 432x288 with 1 Axes>"
      ]
     },
     "metadata": {
      "needs_background": "light"
     },
     "output_type": "display_data"
    }
   ],
   "source": [
    "xgrid = np.linspace(-3,1, 300)\n",
    "ygrid = np.linspace(-2,2, 300)\n",
    "\n",
    "grid = np.array([[indicator2(x,y)\n",
    "                  for x in xgrid]\n",
    "                 for y in ygrid])\n",
    "\n",
    "               \n",
    "fig = plt.figure()\n",
    "#plt.contour(xgrid, ygrid, grid, (-1, 0, 1), colors = ('red' , 'black', 'blue'), linewidths = (1,3,1))\n",
    "plt.contour(xgrid, ygrid, grid, colors = ('red' , 'black', 'blue'))\n",
    "plt.plot ([p[0] for p in classA_val] , [p[1] for p in classA_val] , 'b.')\n",
    "plt.plot ([p[0] for p in classB_val] , [p[1] for p in classB_val] , 'r.')\n",
    "plt.plot ([p[0] for p in non_inputs_cut] , [p[1] for p in non_inputs_cut] , 'y+')\n",
    "#plt.plot (inp_max[0,0] , inp_max[0,1] , 'yo')\n",
    "#plt.scatter(xgrid, ygrid)\n",
    "plt.grid()\n",
    "fig.suptitle('SVM Polynomial Kernel p_7_0.9_0.2_0.3', fontsize=16)\n",
    "plt.savefig('SVM Polynomial Kernel p_7_0.9_0.2_0.3.svg')\n",
    "plt.show()"
   ]
  },
  {
   "cell_type": "code",
   "execution_count": 670,
   "metadata": {},
   "outputs": [
    {
     "name": "stdout",
     "output_type": "stream",
     "text": [
      "[-1. -1. -1. -1. -1. -1. -1. -1. -1. -1. -1. -1. -1. -1. -1. -1. -1. -1.\n",
      " -1. -1. -1. -1. -1. -1. -1. -1. -1. -1. -1. -1. -1. -1. -1. -1. -1. -1.\n",
      " -1. -1. -1. -1.]\n"
     ]
    },
    {
     "data": {
      "text/plain": [
       "40"
      ]
     },
     "execution_count": 670,
     "metadata": {},
     "output_type": "execute_result"
    }
   ],
   "source": [
    "xgrid_val = inputs_val[:,0]\n",
    "ygrid_val = inputs_val[:,1]\n",
    "\n",
    "grid_val2 = np.zeros(40)\n",
    "\n",
    "for i in range(40):\n",
    "    grid_val2[i] = indicator2(xgrid_val[i],ygrid_val[i])\n",
    "\n",
    "\n",
    "\n",
    "print(grid_val2)\n",
    "len(targets_val)\n",
    "\n",
    "#indicator2(inputs_val[0], inputs_val[1])"
   ]
  },
  {
   "cell_type": "code",
   "execution_count": 185,
   "metadata": {},
   "outputs": [
    {
     "name": "stdout",
     "output_type": "stream",
     "text": [
      "0.0\n",
      "1.0\n",
      "2.0\n",
      "1.0\n",
      "2.0\n",
      "2.0\n",
      "2.0\n",
      "0.0\n",
      "2.0\n",
      "0.0\n",
      "2.0\n",
      "0.0\n",
      "1.0\n",
      "2.0\n",
      "2.0\n",
      "1.0\n",
      "0.0\n",
      "0.0\n",
      "2.0\n",
      "0.0\n",
      "0.0\n",
      "0.0\n",
      "2.0\n",
      "2.0\n",
      "2.0\n",
      "2.0\n",
      "0.0\n",
      "1.0\n",
      "0.0\n",
      "0.0\n",
      "0.0\n",
      "2.0\n",
      "0.0\n",
      "0.0\n",
      "0.0\n",
      "2.0\n",
      "0.0\n",
      "2.0\n",
      "0.0\n",
      "2.0\n",
      "39.0\n"
     ]
    }
   ],
   "source": [
    "hinge_loss = 0\n",
    "i=0\n",
    "targets\n",
    "grid_val\n",
    "#print(grid_val)\n",
    "for i in range(40):\n",
    "    \n",
    "    comparison = 1-targets_val[i]*grid_val2[i]\n",
    "    #print(comparison)\n",
    "    hinge_loss += max(0, comparison)\n",
    "    \n",
    "    \n",
    "print(hinge_loss)"
   ]
  },
  {
   "cell_type": "code",
   "execution_count": 186,
   "metadata": {},
   "outputs": [
    {
     "data": {
      "text/plain": [
       "39.0"
      ]
     },
     "execution_count": 186,
     "metadata": {},
     "output_type": "execute_result"
    }
   ],
   "source": [
    "hinge_loss"
   ]
  },
  {
   "cell_type": "code",
   "execution_count": null,
   "metadata": {},
   "outputs": [],
   "source": []
  }
 ],
 "metadata": {
  "kernelspec": {
   "display_name": "Python 3",
   "language": "python",
   "name": "python3"
  },
  "language_info": {
   "codemirror_mode": {
    "name": "ipython",
    "version": 3
   },
   "file_extension": ".py",
   "mimetype": "text/x-python",
   "name": "python",
   "nbconvert_exporter": "python",
   "pygments_lexer": "ipython3",
   "version": "3.7.1"
  }
 },
 "nbformat": 4,
 "nbformat_minor": 2
}
