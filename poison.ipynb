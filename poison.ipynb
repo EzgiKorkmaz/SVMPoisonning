import numpy as np
import random, math
from scipy.optimize import minimize
import matplotlib.pyplot as plt
import scipy.linalg

classA = np.concatenate((np.random.randn(10,2) * 0.4 + [1.5,0.5], np.random.randn(10,2)* 0.3 + [-1.5,0.5]))
classB = np.random.randn(20, 2) * 0.3 + [0.0, -0.5]

poison = classA[16]
print(poison)

inputs = np.concatenate((classA, classB))
targets = np.concatenate((np.ones(classA.shape[0]),-np.ones(classB.shape[0])))

N = inputs.shape[0]  #number of rows (samples)

permute = list(range(N))
random.shuffle(permute)
inputs = inputs[permute,:]
targets = targets [permute]

x = inputs

plt.plot ([p[0] for p in classA] , [p[1] for p in classA] , 'b.')
plt.plot ([p[0] for p in classB] , [p[1] for p in classB] , 'r.')
plt.scatter(x= poison[0], y= poison[1], marker='v', c= 'red')

plt.axis('equal')   #force same scale on both axis
plt.savefig('svmplot1.pdf')
plt.show()
